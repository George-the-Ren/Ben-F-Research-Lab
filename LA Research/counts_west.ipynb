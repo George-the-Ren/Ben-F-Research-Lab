{
 "cells": [
  {
   "cell_type": "code",
   "execution_count": 1,
   "metadata": {},
   "outputs": [],
   "source": [
    "import json\n",
    "import pandas as pd\n",
    "import requests\n",
    "import utils"
   ]
  },
  {
   "cell_type": "code",
   "execution_count": 2,
   "metadata": {},
   "outputs": [],
   "source": [
    "api_key = utils.api_key()\n",
    "url = 'https://maps.googleapis.com/maps/api/place/textsearch/json?'\n",
    "\n",
    "def dataframe_from_area_code(query):\n",
    "    r = requests.get(url + 'query=' + query + '&key=' + api_key)\n",
    "    x = r.json()\n",
    "    y = x['results']\n",
    "    df = pd.DataFrame(y)\n",
    "    return df\n",
    "\n",
    "global final_dataset"
   ]
  },
  {
   "cell_type": "code",
   "execution_count": 3,
   "metadata": {},
   "outputs": [],
   "source": [
    "# west LA zip codes\n",
    "zip_codes_west = ['90266', '90267', '90291', '90292', '90293','90401','90402','90403','90404','90405']\n",
    "places = ['smoke shops', 'liquor stores', 'marijuana dispenseries', 'schools']"
   ]
  },
  {
   "cell_type": "code",
   "execution_count": 4,
   "metadata": {},
   "outputs": [],
   "source": [
    "final_dataset = pd.DataFrame()\n",
    "\n",
    "for i in range(len(places)):\n",
    "    for j in range(len(zip_codes_west)):\n",
    "        a = pd.DataFrame(dataframe_from_area_code(places[i] + ' near ' + zip_codes_west[j]))\n",
    "        a['shops'] = places[i]\n",
    "        a['zip'] = zip_codes_west[j]\n",
    "        final_dataset = pd.concat([final_dataset, a], axis=0, sort=True)"
   ]
  },
  {
   "cell_type": "code",
   "execution_count": 5,
   "metadata": {},
   "outputs": [
    {
     "name": "stdout",
     "output_type": "stream",
     "text": [
      "(230, 5)\n"
     ]
    },
    {
     "data": {
      "text/html": [
       "<div>\n",
       "<style scoped>\n",
       "    .dataframe tbody tr th:only-of-type {\n",
       "        vertical-align: middle;\n",
       "    }\n",
       "\n",
       "    .dataframe tbody tr th {\n",
       "        vertical-align: top;\n",
       "    }\n",
       "\n",
       "    .dataframe thead th {\n",
       "        text-align: right;\n",
       "    }\n",
       "</style>\n",
       "<table border=\"1\" class=\"dataframe\">\n",
       "  <thead>\n",
       "    <tr style=\"text-align: right;\">\n",
       "      <th></th>\n",
       "      <th>address</th>\n",
       "      <th>lat_long</th>\n",
       "      <th>name</th>\n",
       "      <th>shops</th>\n",
       "      <th>zip</th>\n",
       "    </tr>\n",
       "  </thead>\n",
       "  <tbody>\n",
       "    <tr>\n",
       "      <td>0</td>\n",
       "      <td>2208 Artesia Blvd A, Redondo Beach, CA 90278, ...</td>\n",
       "      <td>{'location': {'lat': 33.8726545, 'lng': -118.3...</td>\n",
       "      <td>The Yellow Smoke Shop</td>\n",
       "      <td>smoke shops</td>\n",
       "      <td>90266</td>\n",
       "    </tr>\n",
       "    <tr>\n",
       "      <td>1</td>\n",
       "      <td>1005 N Aviation Blvd, Redondo Beach, CA 90278,...</td>\n",
       "      <td>{'location': {'lat': 33.8857648, 'lng': -118.3...</td>\n",
       "      <td>Manhattan Beach Smoke Shop</td>\n",
       "      <td>smoke shops</td>\n",
       "      <td>90266</td>\n",
       "    </tr>\n",
       "    <tr>\n",
       "      <td>2</td>\n",
       "      <td>1710 Aviation Blvd, Redondo Beach, CA 90278, U...</td>\n",
       "      <td>{'location': {'lat': 33.8710098, 'lng': -118.3...</td>\n",
       "      <td>Redondo Cigar &amp; Tobacco</td>\n",
       "      <td>smoke shops</td>\n",
       "      <td>90266</td>\n",
       "    </tr>\n",
       "    <tr>\n",
       "      <td>3</td>\n",
       "      <td>2739 Manhattan Beach Blvd, Redondo Beach, CA 9...</td>\n",
       "      <td>{'location': {'lat': 33.888337, 'lng': -118.36...</td>\n",
       "      <td>SMOKE ZONE</td>\n",
       "      <td>smoke shops</td>\n",
       "      <td>90266</td>\n",
       "    </tr>\n",
       "    <tr>\n",
       "      <td>4</td>\n",
       "      <td>432 CA-1, Hermosa Beach, CA 90254, United States</td>\n",
       "      <td>{'location': {'lat': 33.8581076, 'lng': -118.3...</td>\n",
       "      <td>Cigar Hookah &amp; Beyond Smoke and Vape Shop</td>\n",
       "      <td>smoke shops</td>\n",
       "      <td>90266</td>\n",
       "    </tr>\n",
       "  </tbody>\n",
       "</table>\n",
       "</div>"
      ],
      "text/plain": [
       "                                             address  \\\n",
       "0  2208 Artesia Blvd A, Redondo Beach, CA 90278, ...   \n",
       "1  1005 N Aviation Blvd, Redondo Beach, CA 90278,...   \n",
       "2  1710 Aviation Blvd, Redondo Beach, CA 90278, U...   \n",
       "3  2739 Manhattan Beach Blvd, Redondo Beach, CA 9...   \n",
       "4   432 CA-1, Hermosa Beach, CA 90254, United States   \n",
       "\n",
       "                                            lat_long  \\\n",
       "0  {'location': {'lat': 33.8726545, 'lng': -118.3...   \n",
       "1  {'location': {'lat': 33.8857648, 'lng': -118.3...   \n",
       "2  {'location': {'lat': 33.8710098, 'lng': -118.3...   \n",
       "3  {'location': {'lat': 33.888337, 'lng': -118.36...   \n",
       "4  {'location': {'lat': 33.8581076, 'lng': -118.3...   \n",
       "\n",
       "                                        name        shops    zip  \n",
       "0                      The Yellow Smoke Shop  smoke shops  90266  \n",
       "1                 Manhattan Beach Smoke Shop  smoke shops  90266  \n",
       "2                    Redondo Cigar & Tobacco  smoke shops  90266  \n",
       "3                                 SMOKE ZONE  smoke shops  90266  \n",
       "4  Cigar Hookah & Beyond Smoke and Vape Shop  smoke shops  90266  "
      ]
     },
     "execution_count": 5,
     "metadata": {},
     "output_type": "execute_result"
    }
   ],
   "source": [
    "# clean up and create final dataframe\n",
    "final_dataset.drop(['id', 'icon', 'place_id', 'opening_hours', \n",
    "                    'plus_code', 'reference', 'photos', 'price_level', \n",
    "                    'rating', 'types', 'user_ratings_total'], axis=1, inplace=True)\n",
    "final_dataset.rename(columns = {'formatted_address': 'address', 'geometry': 'lat_long'}, inplace=True)\n",
    "final_dataset.drop_duplicates(subset='address', keep='first', inplace=True)\n",
    "final_dataset.reset_index(drop=True, inplace=True)\n",
    "print(final_dataset.shape)\n",
    "final_dataset.head()"
   ]
  },
  {
   "cell_type": "code",
   "execution_count": 6,
   "metadata": {},
   "outputs": [
    {
     "data": {
      "text/html": [
       "<div>\n",
       "<style scoped>\n",
       "    .dataframe tbody tr th:only-of-type {\n",
       "        vertical-align: middle;\n",
       "    }\n",
       "\n",
       "    .dataframe tbody tr th {\n",
       "        vertical-align: top;\n",
       "    }\n",
       "\n",
       "    .dataframe thead th {\n",
       "        text-align: right;\n",
       "    }\n",
       "</style>\n",
       "<table border=\"1\" class=\"dataframe\">\n",
       "  <thead>\n",
       "    <tr style=\"text-align: right;\">\n",
       "      <th></th>\n",
       "      <th>smoke shops</th>\n",
       "      <th>liquor stores</th>\n",
       "      <th>marijuana dispenseries</th>\n",
       "      <th>schools</th>\n",
       "    </tr>\n",
       "  </thead>\n",
       "  <tbody>\n",
       "    <tr>\n",
       "      <td>90266</td>\n",
       "      <td>20</td>\n",
       "      <td>18</td>\n",
       "      <td>3</td>\n",
       "      <td>19</td>\n",
       "    </tr>\n",
       "    <tr>\n",
       "      <td>90267</td>\n",
       "      <td>5</td>\n",
       "      <td>7</td>\n",
       "      <td>0</td>\n",
       "      <td>7</td>\n",
       "    </tr>\n",
       "    <tr>\n",
       "      <td>90291</td>\n",
       "      <td>20</td>\n",
       "      <td>20</td>\n",
       "      <td>0</td>\n",
       "      <td>17</td>\n",
       "    </tr>\n",
       "    <tr>\n",
       "      <td>90292</td>\n",
       "      <td>6</td>\n",
       "      <td>11</td>\n",
       "      <td>0</td>\n",
       "      <td>16</td>\n",
       "    </tr>\n",
       "    <tr>\n",
       "      <td>90293</td>\n",
       "      <td>6</td>\n",
       "      <td>9</td>\n",
       "      <td>2</td>\n",
       "      <td>13</td>\n",
       "    </tr>\n",
       "    <tr>\n",
       "      <td>90401</td>\n",
       "      <td>3</td>\n",
       "      <td>12</td>\n",
       "      <td>2</td>\n",
       "      <td>1</td>\n",
       "    </tr>\n",
       "    <tr>\n",
       "      <td>90402</td>\n",
       "      <td>1</td>\n",
       "      <td>4</td>\n",
       "      <td>0</td>\n",
       "      <td>0</td>\n",
       "    </tr>\n",
       "    <tr>\n",
       "      <td>90403</td>\n",
       "      <td>0</td>\n",
       "      <td>0</td>\n",
       "      <td>0</td>\n",
       "      <td>0</td>\n",
       "    </tr>\n",
       "    <tr>\n",
       "      <td>90404</td>\n",
       "      <td>3</td>\n",
       "      <td>1</td>\n",
       "      <td>0</td>\n",
       "      <td>0</td>\n",
       "    </tr>\n",
       "    <tr>\n",
       "      <td>90405</td>\n",
       "      <td>0</td>\n",
       "      <td>3</td>\n",
       "      <td>1</td>\n",
       "      <td>0</td>\n",
       "    </tr>\n",
       "  </tbody>\n",
       "</table>\n",
       "</div>"
      ],
      "text/plain": [
       "      smoke shops liquor stores marijuana dispenseries schools\n",
       "90266          20            18                      3      19\n",
       "90267           5             7                      0       7\n",
       "90291          20            20                      0      17\n",
       "90292           6            11                      0      16\n",
       "90293           6             9                      2      13\n",
       "90401           3            12                      2       1\n",
       "90402           1             4                      0       0\n",
       "90403           0             0                      0       0\n",
       "90404           3             1                      0       0\n",
       "90405           0             3                      1       0"
      ]
     },
     "execution_count": 6,
     "metadata": {},
     "output_type": "execute_result"
    }
   ],
   "source": [
    "count1 = pd.DataFrame(columns=places, index=zip_codes_west)\n",
    "count1[count1 != 0] = 0\n",
    "for i in range(len(final_dataset['zip'])):\n",
    "    for j in range(len(zip_codes_west)):\n",
    "        if final_dataset['zip'][i] == zip_codes_west[j]:\n",
    "            b = zip_codes_west[j]\n",
    "            for z in range(len(places)):\n",
    "                if final_dataset['shops'][i] == places[z]:\n",
    "                    a = count1.loc[b][places[z]]\n",
    "                    count1.loc[b][places[z]] = a+1\n",
    "count1                                      "
   ]
  },
  {
   "cell_type": "markdown",
   "metadata": {},
   "source": [
    "# Western LA Counts"
   ]
  },
  {
   "cell_type": "code",
   "execution_count": 7,
   "metadata": {},
   "outputs": [
    {
     "name": "stdout",
     "output_type": "stream",
     "text": [
      "[20, 5, 20, 6, 6, 3, 1, 0, 3, 0]\n",
      "[18, 7, 20, 11, 9, 12, 4, 0, 1, 3]\n",
      "[3, 0, 0, 0, 2, 2, 0, 0, 0, 1]\n",
      "[19, 7, 17, 16, 13, 1, 0, 0, 0, 0]\n"
     ]
    }
   ],
   "source": [
    "print(list(count1['smoke shops']))\n",
    "print(list(count1['liquor stores']))\n",
    "print(list(count1['marijuana dispenseries']))\n",
    "print(list(count1['schools']))"
   ]
  }
 ],
 "metadata": {
  "kernelspec": {
   "display_name": "Python 3",
   "language": "python",
   "name": "python3"
  },
  "language_info": {
   "codemirror_mode": {
    "name": "ipython",
    "version": 3
   },
   "file_extension": ".py",
   "mimetype": "text/x-python",
   "name": "python",
   "nbconvert_exporter": "python",
   "pygments_lexer": "ipython3",
   "version": "3.7.4"
  }
 },
 "nbformat": 4,
 "nbformat_minor": 2
}
